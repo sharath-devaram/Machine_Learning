{
 "cells": [
  {
   "cell_type": "code",
   "execution_count": 72,
   "id": "e0128d02-c89a-44f8-9c4b-73e766f8459f",
   "metadata": {},
   "outputs": [],
   "source": [
    "#import necessary modules\n",
    "import numpy as np\n",
    "import pandas as pd\n",
    "import matplotlib.pyplot as plt\n",
    "import seaborn as sns"
   ]
  },
  {
   "cell_type": "code",
   "execution_count": 36,
   "id": "3d33060f-037f-40bf-9dad-4f4ee8f2c83e",
   "metadata": {},
   "outputs": [],
   "source": [
    "#load data set\n",
    "data=pd.read_csv(\"D:/JupyterNotebooks/Queries.csv\")\n",
    "queries_df=pd.DataFrame(data)"
   ]
  },
  {
   "cell_type": "code",
   "execution_count": 37,
   "id": "d1d07b74-3ce3-46b1-9819-27b1789fed0a",
   "metadata": {},
   "outputs": [
    {
     "data": {
      "text/html": [
       "<div>\n",
       "<style scoped>\n",
       "    .dataframe tbody tr th:only-of-type {\n",
       "        vertical-align: middle;\n",
       "    }\n",
       "\n",
       "    .dataframe tbody tr th {\n",
       "        vertical-align: top;\n",
       "    }\n",
       "\n",
       "    .dataframe thead th {\n",
       "        text-align: right;\n",
       "    }\n",
       "</style>\n",
       "<table border=\"1\" class=\"dataframe\">\n",
       "  <thead>\n",
       "    <tr style=\"text-align: right;\">\n",
       "      <th></th>\n",
       "      <th>Top queries</th>\n",
       "      <th>Clicks</th>\n",
       "      <th>Impressions</th>\n",
       "      <th>CTR</th>\n",
       "      <th>Position</th>\n",
       "    </tr>\n",
       "  </thead>\n",
       "  <tbody>\n",
       "    <tr>\n",
       "      <th>0</th>\n",
       "      <td>number guessing game python</td>\n",
       "      <td>5223</td>\n",
       "      <td>14578</td>\n",
       "      <td>35.83%</td>\n",
       "      <td>1.61</td>\n",
       "    </tr>\n",
       "    <tr>\n",
       "      <th>1</th>\n",
       "      <td>thecleverprogrammer</td>\n",
       "      <td>2809</td>\n",
       "      <td>3456</td>\n",
       "      <td>81.28%</td>\n",
       "      <td>1.02</td>\n",
       "    </tr>\n",
       "    <tr>\n",
       "      <th>2</th>\n",
       "      <td>python projects with source code</td>\n",
       "      <td>2077</td>\n",
       "      <td>73380</td>\n",
       "      <td>2.83%</td>\n",
       "      <td>5.94</td>\n",
       "    </tr>\n",
       "    <tr>\n",
       "      <th>3</th>\n",
       "      <td>classification report in machine learning</td>\n",
       "      <td>2012</td>\n",
       "      <td>4959</td>\n",
       "      <td>40.57%</td>\n",
       "      <td>1.28</td>\n",
       "    </tr>\n",
       "    <tr>\n",
       "      <th>4</th>\n",
       "      <td>the clever programmer</td>\n",
       "      <td>1931</td>\n",
       "      <td>2528</td>\n",
       "      <td>76.38%</td>\n",
       "      <td>1.09</td>\n",
       "    </tr>\n",
       "    <tr>\n",
       "      <th>...</th>\n",
       "      <td>...</td>\n",
       "      <td>...</td>\n",
       "      <td>...</td>\n",
       "      <td>...</td>\n",
       "      <td>...</td>\n",
       "    </tr>\n",
       "    <tr>\n",
       "      <th>995</th>\n",
       "      <td>human activity recognition python code</td>\n",
       "      <td>48</td>\n",
       "      <td>369</td>\n",
       "      <td>13.01%</td>\n",
       "      <td>6.53</td>\n",
       "    </tr>\n",
       "    <tr>\n",
       "      <th>996</th>\n",
       "      <td>python contact book project</td>\n",
       "      <td>48</td>\n",
       "      <td>334</td>\n",
       "      <td>14.37%</td>\n",
       "      <td>4.92</td>\n",
       "    </tr>\n",
       "    <tr>\n",
       "      <th>997</th>\n",
       "      <td>why standard scaler is used</td>\n",
       "      <td>48</td>\n",
       "      <td>295</td>\n",
       "      <td>16.27%</td>\n",
       "      <td>2.07</td>\n",
       "    </tr>\n",
       "    <tr>\n",
       "      <th>998</th>\n",
       "      <td>credit scoring machine learning python</td>\n",
       "      <td>48</td>\n",
       "      <td>243</td>\n",
       "      <td>19.75%</td>\n",
       "      <td>6.40</td>\n",
       "    </tr>\n",
       "    <tr>\n",
       "      <th>999</th>\n",
       "      <td>numpy useful functions</td>\n",
       "      <td>48</td>\n",
       "      <td>166</td>\n",
       "      <td>28.92%</td>\n",
       "      <td>2.73</td>\n",
       "    </tr>\n",
       "  </tbody>\n",
       "</table>\n",
       "<p>1000 rows × 5 columns</p>\n",
       "</div>"
      ],
      "text/plain": [
       "                                   Top queries  Clicks  Impressions     CTR  \\\n",
       "0                  number guessing game python    5223        14578  35.83%   \n",
       "1                          thecleverprogrammer    2809         3456  81.28%   \n",
       "2             python projects with source code    2077        73380   2.83%   \n",
       "3    classification report in machine learning    2012         4959  40.57%   \n",
       "4                        the clever programmer    1931         2528  76.38%   \n",
       "..                                         ...     ...          ...     ...   \n",
       "995     human activity recognition python code      48          369  13.01%   \n",
       "996                python contact book project      48          334  14.37%   \n",
       "997                why standard scaler is used      48          295  16.27%   \n",
       "998     credit scoring machine learning python      48          243  19.75%   \n",
       "999                     numpy useful functions      48          166  28.92%   \n",
       "\n",
       "     Position  \n",
       "0        1.61  \n",
       "1        1.02  \n",
       "2        5.94  \n",
       "3        1.28  \n",
       "4        1.09  \n",
       "..        ...  \n",
       "995      6.53  \n",
       "996      4.92  \n",
       "997      2.07  \n",
       "998      6.40  \n",
       "999      2.73  \n",
       "\n",
       "[1000 rows x 5 columns]"
      ]
     },
     "execution_count": 37,
     "metadata": {},
     "output_type": "execute_result"
    }
   ],
   "source": [
    "df"
   ]
  },
  {
   "cell_type": "code",
   "execution_count": 38,
   "id": "d253e2bb-fea6-4bd6-9aa6-f14f0fc5e937",
   "metadata": {},
   "outputs": [
    {
     "data": {
      "text/html": [
       "<div>\n",
       "<style scoped>\n",
       "    .dataframe tbody tr th:only-of-type {\n",
       "        vertical-align: middle;\n",
       "    }\n",
       "\n",
       "    .dataframe tbody tr th {\n",
       "        vertical-align: top;\n",
       "    }\n",
       "\n",
       "    .dataframe thead th {\n",
       "        text-align: right;\n",
       "    }\n",
       "</style>\n",
       "<table border=\"1\" class=\"dataframe\">\n",
       "  <thead>\n",
       "    <tr style=\"text-align: right;\">\n",
       "      <th></th>\n",
       "      <th>Top queries</th>\n",
       "      <th>Clicks</th>\n",
       "      <th>Impressions</th>\n",
       "      <th>CTR</th>\n",
       "      <th>Position</th>\n",
       "    </tr>\n",
       "  </thead>\n",
       "  <tbody>\n",
       "    <tr>\n",
       "      <th>0</th>\n",
       "      <td>number guessing game python</td>\n",
       "      <td>5223</td>\n",
       "      <td>14578</td>\n",
       "      <td>35.83%</td>\n",
       "      <td>1.61</td>\n",
       "    </tr>\n",
       "    <tr>\n",
       "      <th>1</th>\n",
       "      <td>thecleverprogrammer</td>\n",
       "      <td>2809</td>\n",
       "      <td>3456</td>\n",
       "      <td>81.28%</td>\n",
       "      <td>1.02</td>\n",
       "    </tr>\n",
       "    <tr>\n",
       "      <th>2</th>\n",
       "      <td>python projects with source code</td>\n",
       "      <td>2077</td>\n",
       "      <td>73380</td>\n",
       "      <td>2.83%</td>\n",
       "      <td>5.94</td>\n",
       "    </tr>\n",
       "    <tr>\n",
       "      <th>3</th>\n",
       "      <td>classification report in machine learning</td>\n",
       "      <td>2012</td>\n",
       "      <td>4959</td>\n",
       "      <td>40.57%</td>\n",
       "      <td>1.28</td>\n",
       "    </tr>\n",
       "    <tr>\n",
       "      <th>4</th>\n",
       "      <td>the clever programmer</td>\n",
       "      <td>1931</td>\n",
       "      <td>2528</td>\n",
       "      <td>76.38%</td>\n",
       "      <td>1.09</td>\n",
       "    </tr>\n",
       "  </tbody>\n",
       "</table>\n",
       "</div>"
      ],
      "text/plain": [
       "                                 Top queries  Clicks  Impressions     CTR  \\\n",
       "0                number guessing game python    5223        14578  35.83%   \n",
       "1                        thecleverprogrammer    2809         3456  81.28%   \n",
       "2           python projects with source code    2077        73380   2.83%   \n",
       "3  classification report in machine learning    2012         4959  40.57%   \n",
       "4                      the clever programmer    1931         2528  76.38%   \n",
       "\n",
       "   Position  \n",
       "0      1.61  \n",
       "1      1.02  \n",
       "2      5.94  \n",
       "3      1.28  \n",
       "4      1.09  "
      ]
     },
     "execution_count": 38,
     "metadata": {},
     "output_type": "execute_result"
    }
   ],
   "source": [
    "queries_df.head()"
   ]
  },
  {
   "cell_type": "code",
   "execution_count": 39,
   "id": "0775983d-fff0-4ec0-917b-8fd01316ec03",
   "metadata": {},
   "outputs": [
    {
     "data": {
      "text/plain": [
       "Top queries    0\n",
       "Clicks         0\n",
       "Impressions    0\n",
       "CTR            0\n",
       "Position       0\n",
       "dtype: int64"
      ]
     },
     "execution_count": 39,
     "metadata": {},
     "output_type": "execute_result"
    }
   ],
   "source": [
    "queries_df.isnull().sum()"
   ]
  },
  {
   "cell_type": "code",
   "execution_count": 40,
   "id": "2a45fdf3-c2c8-4f65-986d-531b0019a86f",
   "metadata": {},
   "outputs": [
    {
     "data": {
      "text/plain": [
       "Top queries                                                        Clicks  Impressions  CTR     Position\n",
       "write a python program that calculates number of seconds in a day  63      95           66.32%  1.00        1\n",
       "100 python projects                                                212     7423         2.86%   6.99        1\n",
       "190 python projects with source code                               52      645          8.06%   3.31        1\n",
       "60 python projects with source code                                50      1212         4.13%   4.55        1\n",
       "82 python projects with source code                                1343    3562         37.7%   1.32        1\n",
       "                                                                                                           ..\n",
       "accuracy of a model in python                                      92      198          46.46%  1.36        1\n",
       "accuracy model python                                              80      167          47.9%   1.43        1\n",
       "accuracy machine learning python                                   51      155          32.9%   1.81        1\n",
       "accuracy in python code                                            55      132          41.67%  2.28        1\n",
       "accuracy in machine learning python                                150     702          21.37%  2.10        1\n",
       "Name: count, Length: 1000, dtype: int64"
      ]
     },
     "execution_count": 40,
     "metadata": {},
     "output_type": "execute_result"
    }
   ],
   "source": [
    "queries_df.value_counts()"
   ]
  },
  {
   "cell_type": "markdown",
   "id": "f6bd38c2-6ad3-4b3c-867e-5816db0ff8b0",
   "metadata": {},
   "source": [
    "# Exploratory Data Analysis\n",
    "# Let’s have a look at the column insights before moving forward:"
   ]
  },
  {
   "cell_type": "code",
   "execution_count": 41,
   "id": "344103f3-a0a9-4d5f-ab64-f105bf9f43dd",
   "metadata": {},
   "outputs": [
    {
     "name": "stdout",
     "output_type": "stream",
     "text": [
      "<class 'pandas.core.frame.DataFrame'>\n",
      "RangeIndex: 1000 entries, 0 to 999\n",
      "Data columns (total 5 columns):\n",
      " #   Column       Non-Null Count  Dtype  \n",
      "---  ------       --------------  -----  \n",
      " 0   Top queries  1000 non-null   object \n",
      " 1   Clicks       1000 non-null   int64  \n",
      " 2   Impressions  1000 non-null   int64  \n",
      " 3   CTR          1000 non-null   object \n",
      " 4   Position     1000 non-null   float64\n",
      "dtypes: float64(1), int64(2), object(2)\n",
      "memory usage: 39.2+ KB\n"
     ]
    }
   ],
   "source": [
    "queries_df.info()"
   ]
  },
  {
   "cell_type": "code",
   "execution_count": 48,
   "id": "1f0b6998-1c69-482d-92b6-941a66c8ced2",
   "metadata": {},
   "outputs": [],
   "source": [
    "#queries_df['CTR'] = queries_df['CTR'].str.rstrip(\"%\").astype('float')/100\n",
    "#or this method can also used\n",
    "queries_df['CTR'] = queries_df['CTR'].astype('float')"
   ]
  },
  {
   "cell_type": "code",
   "execution_count": 49,
   "id": "39caf4c5-e991-4849-81ac-2eecfaf8757b",
   "metadata": {},
   "outputs": [
    {
     "data": {
      "text/plain": [
       "dtype('float64')"
      ]
     },
     "execution_count": 49,
     "metadata": {},
     "output_type": "execute_result"
    }
   ],
   "source": [
    "queries_df['CTR'].dtype"
   ]
  },
  {
   "cell_type": "code",
   "execution_count": 50,
   "id": "d1ace271-6de0-447a-977e-db997cbbb209",
   "metadata": {},
   "outputs": [
    {
     "data": {
      "text/plain": [
       "0      0.3583\n",
       "1      0.8128\n",
       "2      0.0283\n",
       "3      0.4057\n",
       "4      0.7638\n",
       "        ...  \n",
       "995    0.1301\n",
       "996    0.1437\n",
       "997    0.1627\n",
       "998    0.1975\n",
       "999    0.2892\n",
       "Name: CTR, Length: 1000, dtype: float64"
      ]
     },
     "execution_count": 50,
     "metadata": {},
     "output_type": "execute_result"
    }
   ],
   "source": [
    "queries_df['CTR']"
   ]
  },
  {
   "cell_type": "markdown",
   "id": "56e1ab88-5ce0-4848-b94e-b4c18b7c5980",
   "metadata": {},
   "source": [
    "# Now, let’s analyze common words in each search query:"
   ]
  },
  {
   "cell_type": "code",
   "execution_count": 56,
   "id": "fe6e234b-ccf2-4097-8007-574d5cde848b",
   "metadata": {},
   "outputs": [],
   "source": [
    "from collections import Counter\n",
    "import re\n",
    "import plotly.express as px\n",
    "import plotly.io as pio\n",
    "pio.templates.default = \"plotly_white\""
   ]
  },
  {
   "cell_type": "code",
   "execution_count": 63,
   "id": "b43103fe-63bf-48d9-8f64-3da23910fb41",
   "metadata": {},
   "outputs": [
    {
     "data": {
      "text/html": [
       "<div>\n",
       "<style scoped>\n",
       "    .dataframe tbody tr th:only-of-type {\n",
       "        vertical-align: middle;\n",
       "    }\n",
       "\n",
       "    .dataframe tbody tr th {\n",
       "        vertical-align: top;\n",
       "    }\n",
       "\n",
       "    .dataframe thead th {\n",
       "        text-align: right;\n",
       "    }\n",
       "</style>\n",
       "<table border=\"1\" class=\"dataframe\">\n",
       "  <thead>\n",
       "    <tr style=\"text-align: right;\">\n",
       "      <th></th>\n",
       "      <th>Word</th>\n",
       "      <th>Frequency</th>\n",
       "    </tr>\n",
       "  </thead>\n",
       "  <tbody>\n",
       "    <tr>\n",
       "      <th>0</th>\n",
       "      <td>number</td>\n",
       "      <td>94</td>\n",
       "    </tr>\n",
       "    <tr>\n",
       "      <th>1</th>\n",
       "      <td>guessing</td>\n",
       "      <td>43</td>\n",
       "    </tr>\n",
       "    <tr>\n",
       "      <th>2</th>\n",
       "      <td>game</td>\n",
       "      <td>103</td>\n",
       "    </tr>\n",
       "    <tr>\n",
       "      <th>3</th>\n",
       "      <td>python</td>\n",
       "      <td>562</td>\n",
       "    </tr>\n",
       "    <tr>\n",
       "      <th>4</th>\n",
       "      <td>thecleverprogrammer</td>\n",
       "      <td>1</td>\n",
       "    </tr>\n",
       "    <tr>\n",
       "      <th>...</th>\n",
       "      <td>...</td>\n",
       "      <td>...</td>\n",
       "    </tr>\n",
       "    <tr>\n",
       "      <th>633</th>\n",
       "      <td>micro</td>\n",
       "      <td>1</td>\n",
       "    </tr>\n",
       "    <tr>\n",
       "      <th>634</th>\n",
       "      <td>roc</td>\n",
       "      <td>1</td>\n",
       "    </tr>\n",
       "    <tr>\n",
       "      <th>635</th>\n",
       "      <td>auc</td>\n",
       "      <td>1</td>\n",
       "    </tr>\n",
       "    <tr>\n",
       "      <th>636</th>\n",
       "      <td>scoring</td>\n",
       "      <td>1</td>\n",
       "    </tr>\n",
       "    <tr>\n",
       "      <th>637</th>\n",
       "      <td>useful</td>\n",
       "      <td>1</td>\n",
       "    </tr>\n",
       "  </tbody>\n",
       "</table>\n",
       "<p>638 rows × 2 columns</p>\n",
       "</div>"
      ],
      "text/plain": [
       "                    Word  Frequency\n",
       "0                 number         94\n",
       "1               guessing         43\n",
       "2                   game        103\n",
       "3                 python        562\n",
       "4    thecleverprogrammer          1\n",
       "..                   ...        ...\n",
       "633                micro          1\n",
       "634                  roc          1\n",
       "635                  auc          1\n",
       "636              scoring          1\n",
       "637               useful          1\n",
       "\n",
       "[638 rows x 2 columns]"
      ]
     },
     "execution_count": 63,
     "metadata": {},
     "output_type": "execute_result"
    }
   ],
   "source": [
    "word_counter={}\n",
    "\n",
    "for query in queries_df['Top queries']:\n",
    "    words=query.split(\" \")\n",
    "    for word in words:\n",
    "        if word in word_counter:\n",
    "            word_counter[word]+=1\n",
    "        else:\n",
    "            word_counter[word]=1\n",
    "\n",
    "#print(word_counter)\n",
    "words_df = pd.DataFrame(word_counter.items(), columns=['Word','Frequency'])\n",
    "words_df"
   ]
  },
  {
   "cell_type": "code",
   "execution_count": 69,
   "id": "936ab579-013c-44e4-a311-4156ad287015",
   "metadata": {},
   "outputs": [
    {
     "data": {
      "text/html": [
       "<div>\n",
       "<style scoped>\n",
       "    .dataframe tbody tr th:only-of-type {\n",
       "        vertical-align: middle;\n",
       "    }\n",
       "\n",
       "    .dataframe tbody tr th {\n",
       "        vertical-align: top;\n",
       "    }\n",
       "\n",
       "    .dataframe thead th {\n",
       "        text-align: right;\n",
       "    }\n",
       "</style>\n",
       "<table border=\"1\" class=\"dataframe\">\n",
       "  <thead>\n",
       "    <tr style=\"text-align: right;\">\n",
       "      <th></th>\n",
       "      <th>Word</th>\n",
       "      <th>Frequency</th>\n",
       "    </tr>\n",
       "  </thead>\n",
       "  <tbody>\n",
       "    <tr>\n",
       "      <th>3</th>\n",
       "      <td>python</td>\n",
       "      <td>562</td>\n",
       "    </tr>\n",
       "    <tr>\n",
       "      <th>11</th>\n",
       "      <td>in</td>\n",
       "      <td>232</td>\n",
       "    </tr>\n",
       "    <tr>\n",
       "      <th>8</th>\n",
       "      <td>code</td>\n",
       "      <td>138</td>\n",
       "    </tr>\n",
       "    <tr>\n",
       "      <th>13</th>\n",
       "      <td>learning</td>\n",
       "      <td>133</td>\n",
       "    </tr>\n",
       "    <tr>\n",
       "      <th>12</th>\n",
       "      <td>machine</td>\n",
       "      <td>123</td>\n",
       "    </tr>\n",
       "    <tr>\n",
       "      <th>...</th>\n",
       "      <td>...</td>\n",
       "      <td>...</td>\n",
       "    </tr>\n",
       "    <tr>\n",
       "      <th>627</th>\n",
       "      <td>60</td>\n",
       "      <td>1</td>\n",
       "    </tr>\n",
       "    <tr>\n",
       "      <th>599</th>\n",
       "      <td>tkinter</td>\n",
       "      <td>1</td>\n",
       "    </tr>\n",
       "    <tr>\n",
       "      <th>600</th>\n",
       "      <td>dissertation</td>\n",
       "      <td>1</td>\n",
       "    </tr>\n",
       "    <tr>\n",
       "      <th>601</th>\n",
       "      <td>economics</td>\n",
       "      <td>1</td>\n",
       "    </tr>\n",
       "    <tr>\n",
       "      <th>602</th>\n",
       "      <td>series</td>\n",
       "      <td>1</td>\n",
       "    </tr>\n",
       "  </tbody>\n",
       "</table>\n",
       "<p>638 rows × 2 columns</p>\n",
       "</div>"
      ],
      "text/plain": [
       "             Word  Frequency\n",
       "3          python        562\n",
       "11             in        232\n",
       "8            code        138\n",
       "13       learning        133\n",
       "12        machine        123\n",
       "..            ...        ...\n",
       "627            60          1\n",
       "599       tkinter          1\n",
       "600  dissertation          1\n",
       "601     economics          1\n",
       "602        series          1\n",
       "\n",
       "[638 rows x 2 columns]"
      ]
     },
     "execution_count": 69,
     "metadata": {},
     "output_type": "execute_result"
    }
   ],
   "source": [
    "##sort word_df for first max 20 values\n",
    "words_df.sort_values(by='Frequency',ascending=False,inplace=True)\n",
    "words_df"
   ]
  },
  {
   "cell_type": "code",
   "execution_count": 70,
   "id": "5db1da99-7ab1-4d9e-b35b-a9dd7c84f15e",
   "metadata": {},
   "outputs": [
    {
     "data": {
      "text/html": [
       "<div>\n",
       "<style scoped>\n",
       "    .dataframe tbody tr th:only-of-type {\n",
       "        vertical-align: middle;\n",
       "    }\n",
       "\n",
       "    .dataframe tbody tr th {\n",
       "        vertical-align: top;\n",
       "    }\n",
       "\n",
       "    .dataframe thead th {\n",
       "        text-align: right;\n",
       "    }\n",
       "</style>\n",
       "<table border=\"1\" class=\"dataframe\">\n",
       "  <thead>\n",
       "    <tr style=\"text-align: right;\">\n",
       "      <th></th>\n",
       "      <th>Word</th>\n",
       "      <th>Frequency</th>\n",
       "    </tr>\n",
       "  </thead>\n",
       "  <tbody>\n",
       "    <tr>\n",
       "      <th>3</th>\n",
       "      <td>python</td>\n",
       "      <td>562</td>\n",
       "    </tr>\n",
       "    <tr>\n",
       "      <th>11</th>\n",
       "      <td>in</td>\n",
       "      <td>232</td>\n",
       "    </tr>\n",
       "    <tr>\n",
       "      <th>8</th>\n",
       "      <td>code</td>\n",
       "      <td>138</td>\n",
       "    </tr>\n",
       "    <tr>\n",
       "      <th>13</th>\n",
       "      <td>learning</td>\n",
       "      <td>133</td>\n",
       "    </tr>\n",
       "    <tr>\n",
       "      <th>12</th>\n",
       "      <td>machine</td>\n",
       "      <td>123</td>\n",
       "    </tr>\n",
       "    <tr>\n",
       "      <th>28</th>\n",
       "      <td>using</td>\n",
       "      <td>105</td>\n",
       "    </tr>\n",
       "    <tr>\n",
       "      <th>2</th>\n",
       "      <td>game</td>\n",
       "      <td>103</td>\n",
       "    </tr>\n",
       "    <tr>\n",
       "      <th>0</th>\n",
       "      <td>number</td>\n",
       "      <td>94</td>\n",
       "    </tr>\n",
       "    <tr>\n",
       "      <th>64</th>\n",
       "      <td>to</td>\n",
       "      <td>82</td>\n",
       "    </tr>\n",
       "    <tr>\n",
       "      <th>27</th>\n",
       "      <td>prediction</td>\n",
       "      <td>70</td>\n",
       "    </tr>\n",
       "    <tr>\n",
       "      <th>113</th>\n",
       "      <td>project</td>\n",
       "      <td>68</td>\n",
       "    </tr>\n",
       "    <tr>\n",
       "      <th>46</th>\n",
       "      <td>analysis</td>\n",
       "      <td>66</td>\n",
       "    </tr>\n",
       "    <tr>\n",
       "      <th>6</th>\n",
       "      <td>with</td>\n",
       "      <td>53</td>\n",
       "    </tr>\n",
       "    <tr>\n",
       "      <th>63</th>\n",
       "      <td>how</td>\n",
       "      <td>50</td>\n",
       "    </tr>\n",
       "    <tr>\n",
       "      <th>14</th>\n",
       "      <td>the</td>\n",
       "      <td>49</td>\n",
       "    </tr>\n",
       "    <tr>\n",
       "      <th>105</th>\n",
       "      <td>c++</td>\n",
       "      <td>49</td>\n",
       "    </tr>\n",
       "    <tr>\n",
       "      <th>40</th>\n",
       "      <td>detection</td>\n",
       "      <td>45</td>\n",
       "    </tr>\n",
       "    <tr>\n",
       "      <th>1</th>\n",
       "      <td>guessing</td>\n",
       "      <td>43</td>\n",
       "    </tr>\n",
       "    <tr>\n",
       "      <th>7</th>\n",
       "      <td>source</td>\n",
       "      <td>43</td>\n",
       "    </tr>\n",
       "    <tr>\n",
       "      <th>9</th>\n",
       "      <td>classification</td>\n",
       "      <td>43</td>\n",
       "    </tr>\n",
       "  </tbody>\n",
       "</table>\n",
       "</div>"
      ],
      "text/plain": [
       "               Word  Frequency\n",
       "3            python        562\n",
       "11               in        232\n",
       "8              code        138\n",
       "13         learning        133\n",
       "12          machine        123\n",
       "28            using        105\n",
       "2              game        103\n",
       "0            number         94\n",
       "64               to         82\n",
       "27       prediction         70\n",
       "113         project         68\n",
       "46         analysis         66\n",
       "6              with         53\n",
       "63              how         50\n",
       "14              the         49\n",
       "105             c++         49\n",
       "40        detection         45\n",
       "1          guessing         43\n",
       "7            source         43\n",
       "9    classification         43"
      ]
     },
     "execution_count": 70,
     "metadata": {},
     "output_type": "execute_result"
    }
   ],
   "source": [
    "#cut it to first 20 values\n",
    "words_df=words_df[:20]\n",
    "words_df"
   ]
  },
  {
   "cell_type": "code",
   "execution_count": 75,
   "id": "be77784b-3545-4f2d-9b54-4288b38bab54",
   "metadata": {},
   "outputs": [
    {
     "data": {
      "text/plain": [
       "<bound method Figure.show of <Figure size 2500x500 with 1 Axes>>"
      ]
     },
     "execution_count": 75,
     "metadata": {},
     "output_type": "execute_result"
    },
    {
     "data": {
      "image/png": "[encoded data removed]",
      "text/plain": [
       "<Figure size 2500x500 with 1 Axes>"
      ]
     },
     "metadata": {},
     "output_type": "display_data"
    }
   ],
   "source": [
    "# Plotting the word frequencies\n",
    "figure = plt.figure(figsize = (25,5))\n",
    "plt.title(\"Words vs Frequency \")\n",
    "sns.barplot(x='Word',y ='Frequency',data=words_df)\n",
    "figure.show"
   ]
  },
  {
   "cell_type": "code",
   "execution_count": 78,
   "id": "8aae10e5-7450-4b86-888e-8f79063ff357",
   "metadata": {},
   "outputs": [
    {
     "data": {
      "text/html": [
       "<div>\n",
       "<style scoped>\n",
       "    .dataframe tbody tr th:only-of-type {\n",
       "        vertical-align: middle;\n",
       "    }\n",
       "\n",
       "    .dataframe tbody tr th {\n",
       "        vertical-align: top;\n",
       "    }\n",
       "\n",
       "    .dataframe thead th {\n",
       "        text-align: right;\n",
       "    }\n",
       "</style>\n",
       "<table border=\"1\" class=\"dataframe\">\n",
       "  <thead>\n",
       "    <tr style=\"text-align: right;\">\n",
       "      <th></th>\n",
       "      <th>Top queries</th>\n",
       "      <th>Clicks</th>\n",
       "      <th>Impressions</th>\n",
       "      <th>CTR</th>\n",
       "      <th>Position</th>\n",
       "    </tr>\n",
       "  </thead>\n",
       "  <tbody>\n",
       "    <tr>\n",
       "      <th>0</th>\n",
       "      <td>number guessing game python</td>\n",
       "      <td>5223</td>\n",
       "      <td>14578</td>\n",
       "      <td>0.3583</td>\n",
       "      <td>1.61</td>\n",
       "    </tr>\n",
       "    <tr>\n",
       "      <th>1</th>\n",
       "      <td>thecleverprogrammer</td>\n",
       "      <td>2809</td>\n",
       "      <td>3456</td>\n",
       "      <td>0.8128</td>\n",
       "      <td>1.02</td>\n",
       "    </tr>\n",
       "    <tr>\n",
       "      <th>2</th>\n",
       "      <td>python projects with source code</td>\n",
       "      <td>2077</td>\n",
       "      <td>73380</td>\n",
       "      <td>0.0283</td>\n",
       "      <td>5.94</td>\n",
       "    </tr>\n",
       "    <tr>\n",
       "      <th>3</th>\n",
       "      <td>classification report in machine learning</td>\n",
       "      <td>2012</td>\n",
       "      <td>4959</td>\n",
       "      <td>0.4057</td>\n",
       "      <td>1.28</td>\n",
       "    </tr>\n",
       "    <tr>\n",
       "      <th>4</th>\n",
       "      <td>the clever programmer</td>\n",
       "      <td>1931</td>\n",
       "      <td>2528</td>\n",
       "      <td>0.7638</td>\n",
       "      <td>1.09</td>\n",
       "    </tr>\n",
       "    <tr>\n",
       "      <th>...</th>\n",
       "      <td>...</td>\n",
       "      <td>...</td>\n",
       "      <td>...</td>\n",
       "      <td>...</td>\n",
       "      <td>...</td>\n",
       "    </tr>\n",
       "    <tr>\n",
       "      <th>995</th>\n",
       "      <td>human activity recognition python code</td>\n",
       "      <td>48</td>\n",
       "      <td>369</td>\n",
       "      <td>0.1301</td>\n",
       "      <td>6.53</td>\n",
       "    </tr>\n",
       "    <tr>\n",
       "      <th>996</th>\n",
       "      <td>python contact book project</td>\n",
       "      <td>48</td>\n",
       "      <td>334</td>\n",
       "      <td>0.1437</td>\n",
       "      <td>4.92</td>\n",
       "    </tr>\n",
       "    <tr>\n",
       "      <th>997</th>\n",
       "      <td>why standard scaler is used</td>\n",
       "      <td>48</td>\n",
       "      <td>295</td>\n",
       "      <td>0.1627</td>\n",
       "      <td>2.07</td>\n",
       "    </tr>\n",
       "    <tr>\n",
       "      <th>998</th>\n",
       "      <td>credit scoring machine learning python</td>\n",
       "      <td>48</td>\n",
       "      <td>243</td>\n",
       "      <td>0.1975</td>\n",
       "      <td>6.40</td>\n",
       "    </tr>\n",
       "    <tr>\n",
       "      <th>999</th>\n",
       "      <td>numpy useful functions</td>\n",
       "      <td>48</td>\n",
       "      <td>166</td>\n",
       "      <td>0.2892</td>\n",
       "      <td>2.73</td>\n",
       "    </tr>\n",
       "  </tbody>\n",
       "</table>\n",
       "<p>1000 rows × 5 columns</p>\n",
       "</div>"
      ],
      "text/plain": [
       "                                   Top queries  Clicks  Impressions     CTR  \\\n",
       "0                  number guessing game python    5223        14578  0.3583   \n",
       "1                          thecleverprogrammer    2809         3456  0.8128   \n",
       "2             python projects with source code    2077        73380  0.0283   \n",
       "3    classification report in machine learning    2012         4959  0.4057   \n",
       "4                        the clever programmer    1931         2528  0.7638   \n",
       "..                                         ...     ...          ...     ...   \n",
       "995     human activity recognition python code      48          369  0.1301   \n",
       "996                python contact book project      48          334  0.1437   \n",
       "997                why standard scaler is used      48          295  0.1627   \n",
       "998     credit scoring machine learning python      48          243  0.1975   \n",
       "999                     numpy useful functions      48          166  0.2892   \n",
       "\n",
       "     Position  \n",
       "0        1.61  \n",
       "1        1.02  \n",
       "2        5.94  \n",
       "3        1.28  \n",
       "4        1.09  \n",
       "..        ...  \n",
       "995      6.53  \n",
       "996      4.92  \n",
       "997      2.07  \n",
       "998      6.40  \n",
       "999      2.73  \n",
       "\n",
       "[1000 rows x 5 columns]"
      ]
     },
     "execution_count": 78,
     "metadata": {},
     "output_type": "execute_result"
    }
   ],
   "source": [
    "#Now, let’s have a look at the top queries by clicks and impressions:\n",
    "top_queries_df = queries_df.sort_values(by=['Clicks','Impressions'],ascending=False)\n",
    "top_queries_df"
   ]
  },
  {
   "cell_type": "code",
   "execution_count": 82,
   "id": "d55689d7-16be-44e8-8397-7a5cbf2540ee",
   "metadata": {},
   "outputs": [
    {
     "data": {
      "text/plain": [
       "<bound method Figure.show of <Figure size 3500x500 with 1 Axes>>"
      ]
     },
     "execution_count": 82,
     "metadata": {},
     "output_type": "execute_result"
    },
    {
     "data": {
      "image/png": "[encoded data removed]",
      "text/plain": [
       "<Figure size 3500x500 with 1 Axes>"
      ]
     },
     "metadata": {},
     "output_type": "display_data"
    }
   ],
   "source": [
    "##plot a count plot\n",
    "figure = plt.figure(figsize=(35,5))\n",
    "plt.title(\"Query vs Count\")\n",
    "sns.barplot(x='Top queries',y='Clicks',data=top_queries_df[:10])\n",
    "figure.show"
   ]
  },
  {
   "cell_type": "code",
   "execution_count": 83,
   "id": "c8b8c0ef-4a19-450a-9730-2aa9805b397f",
   "metadata": {},
   "outputs": [
    {
     "data": {
      "text/plain": [
       "<bound method Figure.show of <Figure size 3500x500 with 1 Axes>>"
      ]
     },
     "execution_count": 83,
     "metadata": {},
     "output_type": "execute_result"
    },
    {
     "data": {
      "image/png": "[encoded data removed]",
      "text/plain": [
       "<Figure size 3500x500 with 1 Axes>"
      ]
     },
     "metadata": {},
     "output_type": "display_data"
    }
   ],
   "source": [
    "##plot a count plot\n",
    "figure = plt.figure(figsize=(35,5))\n",
    "plt.title(\"Query vs Count\")\n",
    "sns.barplot(x='Top queries',y='Impressions',data=top_queries_df[:10])\n",
    "figure.show"
   ]
  },
  {
   "cell_type": "code",
   "execution_count": 84,
   "id": "7c4f3693-91c9-4fd6-9f79-d28b15647f5c",
   "metadata": {},
   "outputs": [
    {
     "data": {
      "text/plain": [
       "<bound method Figure.show of <Figure size 3500x500 with 1 Axes>>"
      ]
     },
     "execution_count": 84,
     "metadata": {},
     "output_type": "execute_result"
    },
    {
     "data": {
      "image/png": "[encoded data removed]",
      "text/plain": [
       "<Figure size 3500x500 with 1 Axes>"
      ]
     },
     "metadata": {},
     "output_type": "display_data"
    }
   ],
   "source": [
    "#Now, let’s analyze the queries with the highest and lowest CTRs:\n",
    "figure = plt.figure(figsize=(35,5))\n",
    "plt.title(\"Query vs Count\")\n",
    "sns.barplot(x='Top queries',y='CTR',data=top_queries_df[:10])\n",
    "figure.show"
   ]
  },
  {
   "cell_type": "code",
   "execution_count": 90,
   "id": "dcce165c-afb7-43e1-9a8f-a921734bff61",
   "metadata": {},
   "outputs": [
    {
     "data": {
      "image/png": "[encoded data removed]",
      "text/plain": [
       "<Figure size 500x500 with 2 Axes>"
      ]
     },
     "metadata": {},
     "output_type": "display_data"
    }
   ],
   "source": [
    "#Now, let’s have a look at the correlation between different metrics:\n",
    "#correlation_matrix=queries_df[['Clicks', 'Impressions', 'CTR', 'Position']].corr() if you want to plot for specific columns\n",
    "plt.figure(figsize=(5,5))\n",
    "sns.heatmap(queries_df[['Clicks', 'Impressions', 'CTR', 'Position']].corr(), annot=True, fmt=\".2f\")\n",
    "plt.show()"
   ]
  },
  {
   "cell_type": "raw",
   "id": "abb8d9a6-d55c-411e-a4d7-1aec24e04296",
   "metadata": {},
   "source": [
    "In this correlation matrix:\r\n",
    "\r\n",
    "Clicks and Impressions are positively correlated, meaning more Impressions tend to lead to more Clicks.\r\n",
    "Clicks and CTR h ve a weak positive correlation, implying that more Clicks might slightly increase the Click-Through Rate.\r\n",
    "Clicks and Position are weakly negatively correlated, suggesting that higher ad or page Positions may result in fewer Clicks.\r\n",
    "Impressions and CTR are negatively correlated, indicating that higher Impressions tend to result in a lower Click-Through Rate.\r\n",
    "Impressions and Position are positively correlated, indicating that ads or pages in higher Positions receive more Impressions.\r\n",
    "CTR and Position have a strong negative correlation, meaning that higher Positions result in lower Click-Through Rates."
   ]
  },
  {
   "cell_type": "raw",
   "id": "b2a92de1-6943-463a-8e03-17c1055e4a74",
   "metadata": {},
   "source": [
    "Detecting Anomalies in Search Queries\n",
    "Now, let’s detect anomalies in search queries. You can use various techniques for anomaly detection. A simple and effective method is the Isolation Forest algorithm, which works well with different data distributions and is efficient with large datasets:"
   ]
  },
  {
   "cell_type": "code",
   "execution_count": 91,
   "id": "0ef9b4de-6569-47be-bbf6-5c266ed5a7ed",
   "metadata": {},
   "outputs": [],
   "source": [
    "from sklearn.ensemble import IsolationForest"
   ]
  },
  {
   "cell_type": "code",
   "execution_count": 95,
   "id": "0ec7bf9f-8ef3-4548-8729-57e9dba18c31",
   "metadata": {},
   "outputs": [],
   "source": [
    "# Selecting relevant features\n",
    "features = queries_df[['Clicks', 'Impressions', 'CTR', 'Position']]\n",
    "\n",
    "# Initializing Isolation Forest\n",
    "iso_forest = IsolationForest(n_estimators=100, contamination=0.01)  # contamination is the expected proportion of outliers\n",
    "\n",
    "# Fitting the model\n",
    "iso_forest.fit(features)\n",
    "\n",
    "# Predicting anomalies\n",
    "queries_df['anomaly'] = iso_forest.predict(features)\n"
   ]
  },
  {
   "cell_type": "code",
   "execution_count": 102,
   "id": "5b35e609-350d-4404-8053-da1afd4f8f9f",
   "metadata": {},
   "outputs": [
    {
     "data": {
      "text/html": [
       "<div>\n",
       "<style scoped>\n",
       "    .dataframe tbody tr th:only-of-type {\n",
       "        vertical-align: middle;\n",
       "    }\n",
       "\n",
       "    .dataframe tbody tr th {\n",
       "        vertical-align: top;\n",
       "    }\n",
       "\n",
       "    .dataframe thead th {\n",
       "        text-align: right;\n",
       "    }\n",
       "</style>\n",
       "<table border=\"1\" class=\"dataframe\">\n",
       "  <thead>\n",
       "    <tr style=\"text-align: right;\">\n",
       "      <th></th>\n",
       "      <th>Top queries</th>\n",
       "      <th>Clicks</th>\n",
       "      <th>Impressions</th>\n",
       "      <th>CTR</th>\n",
       "      <th>Position</th>\n",
       "      <th>anomaly</th>\n",
       "    </tr>\n",
       "  </thead>\n",
       "  <tbody>\n",
       "    <tr>\n",
       "      <th>0</th>\n",
       "      <td>number guessing game python</td>\n",
       "      <td>5223</td>\n",
       "      <td>14578</td>\n",
       "      <td>0.3583</td>\n",
       "      <td>1.61</td>\n",
       "      <td>-1</td>\n",
       "    </tr>\n",
       "    <tr>\n",
       "      <th>1</th>\n",
       "      <td>thecleverprogrammer</td>\n",
       "      <td>2809</td>\n",
       "      <td>3456</td>\n",
       "      <td>0.8128</td>\n",
       "      <td>1.02</td>\n",
       "      <td>-1</td>\n",
       "    </tr>\n",
       "    <tr>\n",
       "      <th>2</th>\n",
       "      <td>python projects with source code</td>\n",
       "      <td>2077</td>\n",
       "      <td>73380</td>\n",
       "      <td>0.0283</td>\n",
       "      <td>5.94</td>\n",
       "      <td>-1</td>\n",
       "    </tr>\n",
       "    <tr>\n",
       "      <th>3</th>\n",
       "      <td>classification report in machine learning</td>\n",
       "      <td>2012</td>\n",
       "      <td>4959</td>\n",
       "      <td>0.4057</td>\n",
       "      <td>1.28</td>\n",
       "      <td>-1</td>\n",
       "    </tr>\n",
       "    <tr>\n",
       "      <th>4</th>\n",
       "      <td>the clever programmer</td>\n",
       "      <td>1931</td>\n",
       "      <td>2528</td>\n",
       "      <td>0.7638</td>\n",
       "      <td>1.09</td>\n",
       "      <td>-1</td>\n",
       "    </tr>\n",
       "    <tr>\n",
       "      <th>5</th>\n",
       "      <td>standard scaler in machine learning</td>\n",
       "      <td>1559</td>\n",
       "      <td>7292</td>\n",
       "      <td>0.2138</td>\n",
       "      <td>1.53</td>\n",
       "      <td>1</td>\n",
       "    </tr>\n",
       "    <tr>\n",
       "      <th>6</th>\n",
       "      <td>aman kharwal</td>\n",
       "      <td>1490</td>\n",
       "      <td>5752</td>\n",
       "      <td>0.2590</td>\n",
       "      <td>3.75</td>\n",
       "      <td>1</td>\n",
       "    </tr>\n",
       "    <tr>\n",
       "      <th>7</th>\n",
       "      <td>python turtle graphics code</td>\n",
       "      <td>1455</td>\n",
       "      <td>13585</td>\n",
       "      <td>0.1071</td>\n",
       "      <td>4.60</td>\n",
       "      <td>1</td>\n",
       "    </tr>\n",
       "    <tr>\n",
       "      <th>8</th>\n",
       "      <td>python game projects with source code</td>\n",
       "      <td>1421</td>\n",
       "      <td>4946</td>\n",
       "      <td>0.2873</td>\n",
       "      <td>2.23</td>\n",
       "      <td>1</td>\n",
       "    </tr>\n",
       "    <tr>\n",
       "      <th>9</th>\n",
       "      <td>82 python projects with source code</td>\n",
       "      <td>1343</td>\n",
       "      <td>3562</td>\n",
       "      <td>0.3770</td>\n",
       "      <td>1.32</td>\n",
       "      <td>1</td>\n",
       "    </tr>\n",
       "  </tbody>\n",
       "</table>\n",
       "</div>"
      ],
      "text/plain": [
       "                                 Top queries  Clicks  Impressions     CTR  \\\n",
       "0                number guessing game python    5223        14578  0.3583   \n",
       "1                        thecleverprogrammer    2809         3456  0.8128   \n",
       "2           python projects with source code    2077        73380  0.0283   \n",
       "3  classification report in machine learning    2012         4959  0.4057   \n",
       "4                      the clever programmer    1931         2528  0.7638   \n",
       "5        standard scaler in machine learning    1559         7292  0.2138   \n",
       "6                               aman kharwal    1490         5752  0.2590   \n",
       "7                python turtle graphics code    1455        13585  0.1071   \n",
       "8      python game projects with source code    1421         4946  0.2873   \n",
       "9        82 python projects with source code    1343         3562  0.3770   \n",
       "\n",
       "   Position  anomaly  \n",
       "0      1.61       -1  \n",
       "1      1.02       -1  \n",
       "2      5.94       -1  \n",
       "3      1.28       -1  \n",
       "4      1.09       -1  \n",
       "5      1.53        1  \n",
       "6      3.75        1  \n",
       "7      4.60        1  \n",
       "8      2.23        1  \n",
       "9      1.32        1  "
      ]
     },
     "execution_count": 102,
     "metadata": {},
     "output_type": "execute_result"
    }
   ],
   "source": [
    "queries_df.head(10)"
   ]
  },
  {
   "cell_type": "code",
   "execution_count": 101,
   "id": "b4d97b00-cd7b-4dd8-8a57-7c3b512294ff",
   "metadata": {},
   "outputs": [
    {
     "data": {
      "text/plain": [
       "anomaly\n",
       " 1    990\n",
       "-1     10\n",
       "Name: count, dtype: int64"
      ]
     },
     "execution_count": 101,
     "metadata": {},
     "output_type": "execute_result"
    }
   ],
   "source": [
    "queries_df['anomaly'].value_counts()"
   ]
  },
  {
   "cell_type": "code",
   "execution_count": 104,
   "id": "0d21a593-6621-4f85-a41b-be9ee28fcfbd",
   "metadata": {},
   "outputs": [
    {
     "name": "stdout",
     "output_type": "stream",
     "text": [
      "                                   Top queries  Clicks  Impressions     CTR  \\\n",
      "0                  number guessing game python    5223        14578  0.3583   \n",
      "1                          thecleverprogrammer    2809         3456  0.8128   \n",
      "2             python projects with source code    2077        73380  0.0283   \n",
      "3    classification report in machine learning    2012         4959  0.4057   \n",
      "4                        the clever programmer    1931         2528  0.7638   \n",
      "15                  rock paper scissors python    1111        35824  0.0310   \n",
      "21                       classification report     933        39896  0.0234   \n",
      "34                    machine learning roadmap     708        42715  0.0166   \n",
      "82                                    r2 score     367        56322  0.0065   \n",
      "167                        text to handwriting     222        11283  0.0197   \n",
      "\n",
      "     Position  \n",
      "0        1.61  \n",
      "1        1.02  \n",
      "2        5.94  \n",
      "3        1.28  \n",
      "4        1.09  \n",
      "15       7.19  \n",
      "21       7.53  \n",
      "34       8.97  \n",
      "82       9.33  \n",
      "167     28.52  \n"
     ]
    }
   ],
   "source": [
    "# Filtering out the anomalies\n",
    "anomalies = queries_df[queries_df['anomaly'] == -1]\n",
    "#Here’s how to analyze the detected anomalies to understand their nature and whether they represent true outliers or data errors:\n",
    "print(anomalies[['Top queries', 'Clicks', 'Impressions', 'CTR', 'Position']])"
   ]
  },
  {
   "cell_type": "raw",
   "id": "ac7993d7-9ab1-4d50-b7f7-74db71778b1f",
   "metadata": {},
   "source": [
    "The anomalies in our search query data are not just outliers. They are indicators of potential areas for growth, optimization, and strategic focus. These anomalies are reflecting emerging trends or areas of growing interest. Staying responsive to these trends will help in maintaining and growing the website’s relevance and user engagement."
   ]
  },
  {
   "cell_type": "code",
   "execution_count": null,
   "id": "9df665b8-e201-423d-ac08-edfe18ae1a2c",
   "metadata": {},
   "outputs": [],
   "source": []
  }
 ],
 "metadata": {
  "kernelspec": {
   "display_name": "Python 3 (ipykernel)",
   "language": "python",
   "name": "python3"
  },
  "language_info": {
   "codemirror_mode": {
    "name": "ipython",
    "version": 3
   },
   "file_extension": ".py",
   "mimetype": "text/x-python",
   "name": "python",
   "nbconvert_exporter": "python",
   "pygments_lexer": "ipython3",
   "version": "3.12.4"
  }
 },
 "nbformat": 4,
 "nbformat_minor": 5
}
