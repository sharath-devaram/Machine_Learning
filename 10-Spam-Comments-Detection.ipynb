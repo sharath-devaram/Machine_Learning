{
 "cells": [
  {
   "cell_type": "code",
   "execution_count": 1,
   "id": "8a7d3f7c-8127-4ec3-9cd9-6e100ed3022c",
   "metadata": {},
   "outputs": [],
   "source": [
    "import pandas as pd\n",
    "import numpy as np\n",
    "from sklearn.feature_extraction.text import CountVectorizer\n",
    "from sklearn.model_selection import train_test_split\n",
    "from sklearn.naive_bayes import BernoulliNB"
   ]
  },
  {
   "cell_type": "code",
   "execution_count": 2,
   "id": "4e71301b-58b5-43b4-95b6-2bb6a346e276",
   "metadata": {},
   "outputs": [
    {
     "name": "stdout",
     "output_type": "stream",
     "text": [
      "                                      COMMENT_ID          AUTHOR  \\\n",
      "26   LZQPQhLyRh9vw01Xvvw5yWzZEUOPG1hSgRMHep55-Yw      8-BitMusic   \n",
      "218          z12xczhjizrzuhvlp22gh3apkrasg3ggt04     Ben Stalker   \n",
      "328        z13pitkr5prbgf3ja04cjjg4qme3txjpyqc0k    Yeung Marvin   \n",
      "119        z12rsjsiimjkjfkwt04ccbgosvrbgxupxu00k     Norman Reid   \n",
      "39             z13ce52jzwfitrkup23din4ojputijen3  Eugene Kalinin   \n",
      "\n",
      "                    DATE                                            CONTENT  \\\n",
      "26   2013-12-27T23:07:50  Hey guys! Im a 12 yr old music producer. I mak...   \n",
      "218  2014-11-07T19:27:45       GANGMAN STY- *D-D-D-D-D-D--DROP THE BASS!!*﻿   \n",
      "328  2014-11-12T23:56:54  Haha its so funny to see the salt of westerner...   \n",
      "119  2014-11-05T08:12:06  Mix - PSY - GANGNAM STYLE (강남스타일) M/V: PSY - G...   \n",
      "39   2014-01-19T19:21:04  The projects After Effects, Music, Foto, Web s...   \n",
      "\n",
      "     CLASS  \n",
      "26       1  \n",
      "218      0  \n",
      "328      0  \n",
      "119      0  \n",
      "39       1  \n"
     ]
    }
   ],
   "source": [
    "data = pd.read_csv(\"Youtube01-Psy.csv\")\n",
    "print(data.sample(5))"
   ]
  },
  {
   "cell_type": "code",
   "execution_count": 3,
   "id": "5713c0bc-7230-4fa6-a7ec-6dcc067940e3",
   "metadata": {},
   "outputs": [
    {
     "name": "stdout",
     "output_type": "stream",
     "text": [
      "                                               CONTENT  CLASS\n",
      "163                         I found out this song now﻿      0\n",
      "112                 This song never gets old love it.﻿      0\n",
      "204    The population of world is more than 7 billion﻿      0\n",
      "270  The little PSY is suffering Brain Tumor and on...      0\n",
      "333  Look at the pictures, if not difficult http://...      1\n"
     ]
    }
   ],
   "source": [
    "data = data[[\"CONTENT\", \"CLASS\"]]\n",
    "print(data.sample(5))"
   ]
  },
  {
   "cell_type": "code",
   "execution_count": 4,
   "id": "2ccb8260-7805-4ea1-aa84-c2b8773d053d",
   "metadata": {},
   "outputs": [
    {
     "name": "stdout",
     "output_type": "stream",
     "text": [
      "                                               CONTENT         CLASS\n",
      "72                                    Sub my channel!﻿  Spam Comment\n",
      "231               Follow me on Instagram. _chris_cz  ﻿  Spam Comment\n",
      "202        https://www.tsu.co/Aseris get money here !﻿  Spam Comment\n",
      "58   http://tankionline.com#friend=cd92db3f4 great ...  Spam Comment\n",
      "143  Add me here...https://www.facebook.com/TLouXmu...  Spam Comment\n"
     ]
    }
   ],
   "source": [
    "data[\"CLASS\"] = data[\"CLASS\"].map({0: \"Not Spam\",\n",
    "                                   1: \"Spam Comment\"})\n",
    "print(data.sample(5))"
   ]
  },
  {
   "cell_type": "code",
   "execution_count": 5,
   "id": "d6ee818f-9b78-431f-96a0-45079a46d00f",
   "metadata": {},
   "outputs": [],
   "source": [
    "x = np.array(data[\"CONTENT\"])\n",
    "y = np.array(data[\"CLASS\"])"
   ]
  },
  {
   "cell_type": "code",
   "execution_count": 6,
   "id": "4e835b32-f7a0-4f38-a757-d4151af735ef",
   "metadata": {},
   "outputs": [
    {
     "data": {
      "text/plain": [
       "array(['Huh, anyway check out this you[tube] channel: kobyoshi02',\n",
       "       \"Hey guys check out my new channel and our first vid THIS IS US THE  MONKEYS!!! I'm the monkey in the white shirt,please leave a like comment  and please subscribe!!!!\"],\n",
       "      dtype=object)"
      ]
     },
     "execution_count": 6,
     "metadata": {},
     "output_type": "execute_result"
    }
   ],
   "source": [
    "x[:2]"
   ]
  },
  {
   "cell_type": "code",
   "execution_count": 7,
   "id": "30f9d7c5-1f82-4f23-8799-35f25341b68d",
   "metadata": {},
   "outputs": [],
   "source": [
    "cv = CountVectorizer()"
   ]
  },
  {
   "cell_type": "code",
   "execution_count": 8,
   "id": "e3142e06-c948-4128-a45c-b3ffa66d357d",
   "metadata": {},
   "outputs": [],
   "source": [
    "x = cv.fit_transform(x)"
   ]
  },
  {
   "cell_type": "code",
   "execution_count": 9,
   "id": "91de44a2-7570-4066-8e66-8327951c4f67",
   "metadata": {},
   "outputs": [],
   "source": [
    "xtrain, xtest, ytrain, ytest = train_test_split(x, y, test_size=0.2, random_state=42)"
   ]
  },
  {
   "cell_type": "code",
   "execution_count": 10,
   "id": "84ee8c99-4da0-453f-9729-aacf180c30d4",
   "metadata": {},
   "outputs": [
    {
     "name": "stdout",
     "output_type": "stream",
     "text": [
      "0.9857142857142858\n"
     ]
    }
   ],
   "source": [
    "model = BernoulliNB()\n",
    "model.fit(xtrain, ytrain)\n",
    "print(model.score(xtest, ytest))"
   ]
  },
  {
   "cell_type": "code",
   "execution_count": 11,
   "id": "0732bbef-e297-48fa-82da-00ca5f3b74ee",
   "metadata": {},
   "outputs": [
    {
     "name": "stdout",
     "output_type": "stream",
     "text": [
      "['Spam Comment']\n"
     ]
    }
   ],
   "source": [
    "sample = \"Check this out: https://thecleverprogrammer.com/\" \n",
    "data = cv.transform([sample]).toarray()\n",
    "print(model.predict(data))"
   ]
  },
  {
   "cell_type": "code",
   "execution_count": null,
   "id": "bca2e5d1-7aa4-4fc4-bbeb-e409a764f4f4",
   "metadata": {},
   "outputs": [],
   "source": []
  }
 ],
 "metadata": {
  "kernelspec": {
   "display_name": "Python 3 (ipykernel)",
   "language": "python",
   "name": "python3"
  },
  "language_info": {
   "codemirror_mode": {
    "name": "ipython",
    "version": 3
   },
   "file_extension": ".py",
   "mimetype": "text/x-python",
   "name": "python",
   "nbconvert_exporter": "python",
   "pygments_lexer": "ipython3",
   "version": "3.12.4"
  }
 },
 "nbformat": 4,
 "nbformat_minor": 5
}
